{
  "nbformat": 4,
  "nbformat_minor": 0,
  "metadata": {
    "colab": {
      "name": "main.ipynb",
      "provenance": [],
      "authorship_tag": "ABX9TyM5QuUj5ewUS4+f+Ma2sfnK",
      "include_colab_link": true
    },
    "kernelspec": {
      "name": "python3",
      "display_name": "Python 3"
    }
  },
  "cells": [
    {
      "cell_type": "markdown",
      "metadata": {
        "id": "view-in-github",
        "colab_type": "text"
      },
      "source": [
        "<a href=\"https://colab.research.google.com/github/nerudxlf/oecd_scopus/blob/main/main.ipynb\" target=\"_parent\"><img src=\"https://colab.research.google.com/assets/colab-badge.svg\" alt=\"Open In Colab\"/></a>"
      ]
    },
    {
      "cell_type": "code",
      "metadata": {
        "id": "G5FIJuq0n0Zm"
      },
      "source": [
        "import pandas as pd\r\n",
        "\r\n",
        "from google.colab import files\r\n",
        "files.upload"
      ],
      "execution_count": null,
      "outputs": []
    },
    {
      "cell_type": "code",
      "metadata": {
        "id": "DM3oJYeRoDgM"
      },
      "source": [
        "def to_lower_arr(arr: list) -> list:\r\n",
        "    \"\"\"Функция переводит все к общему регистру\"\"\"\r\n",
        "    return_arr = []\r\n",
        "    for i in arr:\r\n",
        "        return_arr.append(i.lower())\r\n",
        "    return return_arr\r\n",
        "\r\n",
        "def get_value(dict_data: dict, a: list, b: list, c: list, d: list, e: list, f: list, g: list):\r\n",
        "    def result(letters, key_value, item_value):\r\n",
        "        for i in letters:\r\n",
        "            if i.split(' (')[0] == key_value.lower():\r\n",
        "                return item_value\r\n",
        "        return 0\r\n",
        "    a_result, b_result, c_result, d_result, e_result, f_result, g_result = 0, 0, 0, 0, 0, 0, 0\r\n",
        "    for key, item in dict_data.items():\r\n",
        "        a_result += result(a, key, item)\r\n",
        "        b_result += result(b, key, item)\r\n",
        "        c_result += result(c, key, item)\r\n",
        "        d_result += result(d, key, item)\r\n",
        "        e_result += result(e, key, item)\r\n",
        "        f_result += result(f, key, item)\r\n",
        "        g_result += result(g, key, item)\r\n",
        "    return {\"p1\": a_result, \"p2\": b_result, \"p3\": c_result, \"p4\": d_result, \"p5\": e_result, \"p6\": f_result,\r\n",
        "            \"p7\": g_result}"
      ],
      "execution_count": null,
      "outputs": []
    },
    {
      "cell_type": "code",
      "metadata": {
        "id": "gGgmB1l4oK50"
      },
      "source": [
        "df_scopus_oecd = pd.read_excel('scopus_oecd.xlsx')\r\n",
        "df_scopus_date = pd.read_excel('2016.xlsx')\r\n",
        "\r\n",
        "df_result = pd.merge(left=df_scopus_date, right=df_scopus_oecd, left_on='Направление', right_on='направление')\r\n",
        "df_result.to_excel(\"result.xlsx\")\r\n",
        "\r\n",
        "a_priority = to_lower_arr(pd.read_excel('a.xlsx')['a'].values)\r\n",
        "b_priority = to_lower_arr(pd.read_excel('b.xlsx')['b'].values)\r\n",
        "c_priority = to_lower_arr(pd.read_excel('c.xlsx')['c'].values)\r\n",
        "d_priority = to_lower_arr(pd.read_excel('d.xlsx')['d'].values)\r\n",
        "e_priority = to_lower_arr(pd.read_excel('e.xlsx')['e'].values)\r\n",
        "f_priority = to_lower_arr(pd.read_excel('f.xlsx')['f'].values)\r\n",
        "g_priority = to_lower_arr(pd.read_excel('g.xlsx')['g'].values)\r\n",
        "\r\n",
        "df_scopus_date_name = df_scopus_date['Направление']\r\n",
        "df_scopus_date_value = df_scopus_date['количество']\r\n",
        "\r\n",
        "df_scopus_date_dict = dict(zip(df_scopus_date_name, df_scopus_date_value))\r\n",
        "result = get_value(df_scopus_date_dict, a_priority, b_priority, c_priority, d_priority, e_priority, f_priority,\r\n",
        "                       g_priority)\r\n",
        "\r\n",
        "result_df = pd.DataFrame(result, index=['']).T\r\n",
        "result_df.to_excel(\"result_ntr_year.xlsx\")"
      ],
      "execution_count": null,
      "outputs": []
    }
  ]
}